{
 "cells": [
  {
   "cell_type": "code",
   "execution_count": 6,
   "id": "2c6d0e05",
   "metadata": {},
   "outputs": [],
   "source": [
    "#Exercici 1\n",
    "#Crea una llista que agrupi els mesos de l’any en trimestres (1T: gener, febrer i març; 2T: abril, maig, juny...), \n",
    "#és a dir, una llista amb 4 llistes dins."
   ]
  },
  {
   "cell_type": "code",
   "execution_count": 57,
   "id": "2fd42602",
   "metadata": {},
   "outputs": [],
   "source": [
    "mesesAnio = [[['T1'],'Enero', 'Febrero', 'Marzo'],\n",
    "             [['T2'],'Abril, Mayo, Junio'],\n",
    "             [['T3'],'Julio', 'Agosto', 'Septiembre'],\n",
    "             [['T4'],'Ocubre', 'Noviembre', 'Diciembre']]\n"
   ]
  },
  {
   "cell_type": "code",
   "execution_count": 58,
   "id": "f1029680",
   "metadata": {},
   "outputs": [
    {
     "name": "stdout",
     "output_type": "stream",
     "text": [
      "[[['T1'], 'Enero', 'Febrero', 'Marzo'], [['T2'], 'Abril, Mayo, Junio'], [['T3'], 'Julio', 'Agosto', 'Septiembre'], [['T4'], 'Ocubre', 'Noviembre', 'Diciembre']]\n"
     ]
    }
   ],
   "source": [
    "print(mesesAnio)"
   ]
  },
  {
   "cell_type": "code",
   "execution_count": 59,
   "id": "aa300abf",
   "metadata": {},
   "outputs": [],
   "source": [
    "#- Exercici 2\n",
    "#Crea un codi que et permeti accedir a:\n",
    "\n",
    "#El segon mes del primer trimestre."
   ]
  },
  {
   "cell_type": "code",
   "execution_count": 60,
   "id": "c8d41025",
   "metadata": {},
   "outputs": [
    {
     "name": "stdout",
     "output_type": "stream",
     "text": [
      "Febrero\n"
     ]
    }
   ],
   "source": [
    "print(mesesAnio[0][2])"
   ]
  },
  {
   "cell_type": "code",
   "execution_count": 61,
   "id": "8b76802d",
   "metadata": {},
   "outputs": [],
   "source": [
    "#Els mesos del primer trimestre."
   ]
  },
  {
   "cell_type": "code",
   "execution_count": 67,
   "id": "1318f75c",
   "metadata": {},
   "outputs": [
    {
     "name": "stdout",
     "output_type": "stream",
     "text": [
      "['Enero', 'Febrero', 'Marzo']\n"
     ]
    }
   ],
   "source": [
    "print(mesesAnio[0][1:4])"
   ]
  },
  {
   "cell_type": "code",
   "execution_count": 47,
   "id": "2c0ca432",
   "metadata": {},
   "outputs": [],
   "source": [
    "#Setembre i octubre."
   ]
  },
  {
   "cell_type": "code",
   "execution_count": 78,
   "id": "70d7f7e8",
   "metadata": {},
   "outputs": [
    {
     "name": "stdout",
     "output_type": "stream",
     "text": [
      "Septiembre Ocubre\n"
     ]
    }
   ],
   "source": [
    "print(mesesAnio[2][3], mesesAnio[3][1])"
   ]
  },
  {
   "cell_type": "code",
   "execution_count": 79,
   "id": "66292195",
   "metadata": {},
   "outputs": [],
   "source": [
    "#- Exercici 3\n",
    "#Crea una llista amb nombres desordenats i respon a les següents preguntes:"
   ]
  },
  {
   "cell_type": "code",
   "execution_count": 4,
   "id": "ae2761df",
   "metadata": {},
   "outputs": [],
   "source": [
    "numerosDesordenados = [9, 3, 6, 1, 8, 4, 2, 3]"
   ]
  },
  {
   "cell_type": "code",
   "execution_count": 5,
   "id": "582690e1",
   "metadata": {},
   "outputs": [],
   "source": [
    "#Quants números hi ha?"
   ]
  },
  {
   "cell_type": "code",
   "execution_count": 6,
   "id": "f8d19b3e",
   "metadata": {},
   "outputs": [
    {
     "name": "stdout",
     "output_type": "stream",
     "text": [
      "8\n"
     ]
    }
   ],
   "source": [
    "print(len(numerosDesordenados))"
   ]
  },
  {
   "cell_type": "code",
   "execution_count": 7,
   "id": "b2d27f68",
   "metadata": {},
   "outputs": [],
   "source": [
    "#Quantes vegades apareix el número 3."
   ]
  },
  {
   "cell_type": "code",
   "execution_count": 9,
   "id": "f49bd4b5",
   "metadata": {},
   "outputs": [],
   "source": [
    "numerosDesordenados = [9, 3, 6, 1, 8, 4, 2, 3]"
   ]
  },
  {
   "cell_type": "code",
   "execution_count": 14,
   "id": "7a7b89e4",
   "metadata": {},
   "outputs": [
    {
     "name": "stdout",
     "output_type": "stream",
     "text": [
      "2\n"
     ]
    }
   ],
   "source": [
    "print(numerosDesordenados.count(3))"
   ]
  },
  {
   "cell_type": "code",
   "execution_count": 15,
   "id": "f854ec0e",
   "metadata": {},
   "outputs": [],
   "source": [
    "#Quantes vegades apareixen els nombres 3 i 4?"
   ]
  },
  {
   "cell_type": "code",
   "execution_count": 16,
   "id": "cac91c6b",
   "metadata": {},
   "outputs": [
    {
     "name": "stdout",
     "output_type": "stream",
     "text": [
      "2 1\n"
     ]
    }
   ],
   "source": [
    "print(numerosDesordenados.count(3), numerosDesordenados.count(4))"
   ]
  },
  {
   "cell_type": "code",
   "execution_count": 17,
   "id": "a5e471c5",
   "metadata": {},
   "outputs": [],
   "source": [
    "#Quin és el número més gran?"
   ]
  },
  {
   "cell_type": "code",
   "execution_count": 19,
   "id": "600b6261",
   "metadata": {},
   "outputs": [
    {
     "name": "stdout",
     "output_type": "stream",
     "text": [
      "9\n"
     ]
    }
   ],
   "source": [
    "print(max(numerosDesordenados))"
   ]
  },
  {
   "cell_type": "code",
   "execution_count": 27,
   "id": "d4ddadde",
   "metadata": {},
   "outputs": [],
   "source": [
    "#Quins són els 3 números més petits?"
   ]
  },
  {
   "cell_type": "code",
   "execution_count": 32,
   "id": "c7429363",
   "metadata": {},
   "outputs": [],
   "source": [
    "numerosDesordenados = [9, 3, 6, 1, 8, 4, 2, 3]"
   ]
  },
  {
   "cell_type": "code",
   "execution_count": 33,
   "id": "1a22892c",
   "metadata": {},
   "outputs": [],
   "source": [
    "numeros_ordenados = sorted(numerosDesordenados)"
   ]
  },
  {
   "cell_type": "code",
   "execution_count": 34,
   "id": "d7233819",
   "metadata": {},
   "outputs": [
    {
     "data": {
      "text/plain": [
       "[1, 2, 3, 3, 4, 6, 8, 9]"
      ]
     },
     "execution_count": 34,
     "metadata": {},
     "output_type": "execute_result"
    }
   ],
   "source": [
    "numeros_ordenados"
   ]
  },
  {
   "cell_type": "code",
   "execution_count": 35,
   "id": "d8e760ef",
   "metadata": {},
   "outputs": [
    {
     "data": {
      "text/plain": [
       "[1, 2, 3]"
      ]
     },
     "execution_count": 35,
     "metadata": {},
     "output_type": "execute_result"
    }
   ],
   "source": [
    "numeros_ordenados[:3]"
   ]
  },
  {
   "cell_type": "code",
   "execution_count": 36,
   "id": "fac44108",
   "metadata": {},
   "outputs": [],
   "source": [
    "#Quin és el rang d’aquesta llista?"
   ]
  },
  {
   "cell_type": "code",
   "execution_count": 38,
   "id": "b72c7cee",
   "metadata": {},
   "outputs": [
    {
     "name": "stdout",
     "output_type": "stream",
     "text": [
      "el rango de la lista es 8\n"
     ]
    }
   ],
   "source": [
    "valor_maximo = max(numerosDesordenados)\n",
    "valor_minimo = min(numerosDesordenados)\n",
    "rango = valor_maximo - valor_minimo\n",
    "print(\"el rango de la lista es\", rango)"
   ]
  },
  {
   "cell_type": "code",
   "execution_count": 74,
   "id": "2e5baeb6",
   "metadata": {},
   "outputs": [],
   "source": [
    "compra = { \"Pomes\" : {\"Qty\": 5, \"€\": 0.42}, \"Peres\" : {\"Qty\": 3, \"€\": 0.66} }"
   ]
  },
  {
   "cell_type": "code",
   "execution_count": 79,
   "id": "df48f949",
   "metadata": {},
   "outputs": [
    {
     "name": "stdout",
     "output_type": "stream",
     "text": [
      "{'Pomes': {'Qty': 5, '€': 0.42}, 'Peres': {'Qty': 3, '€': 0.66}}\n"
     ]
    }
   ],
   "source": [
    "print(compra)"
   ]
  },
  {
   "cell_type": "code",
   "execution_count": 80,
   "id": "1343c591",
   "metadata": {},
   "outputs": [],
   "source": [
    "#Afegeix alguna fruita més"
   ]
  },
  {
   "cell_type": "code",
   "execution_count": 81,
   "id": "43a3abca",
   "metadata": {},
   "outputs": [],
   "source": [
    "compra.update({\"Bananas\": {\"Qty\": 10, \"€\": 1}})"
   ]
  },
  {
   "cell_type": "code",
   "execution_count": 82,
   "id": "0953b657",
   "metadata": {},
   "outputs": [
    {
     "name": "stdout",
     "output_type": "stream",
     "text": [
      "{'Pomes': {'Qty': 5, '€': 0.42}, 'Peres': {'Qty': 3, '€': 0.66}, 'Bananas': {'Qty': 10, '€': 1}}\n"
     ]
    }
   ],
   "source": [
    "print(compra)"
   ]
  },
  {
   "cell_type": "code",
   "execution_count": 83,
   "id": "31a64ea1",
   "metadata": {},
   "outputs": [],
   "source": [
    "#Quant han costat les peres en total?"
   ]
  },
  {
   "cell_type": "code",
   "execution_count": 84,
   "id": "58a20a5b",
   "metadata": {},
   "outputs": [],
   "source": [
    "total_peres = compra[\"Peres\"][\"Qty\"] * compra[\"Peres\"][\"€\"]"
   ]
  },
  {
   "cell_type": "code",
   "execution_count": 85,
   "id": "9d0399cb",
   "metadata": {},
   "outputs": [
    {
     "name": "stdout",
     "output_type": "stream",
     "text": [
      "el precio total de las peras es 1.98\n"
     ]
    }
   ],
   "source": [
    "print(\"el precio total de las peras es\", total_peres)"
   ]
  },
  {
   "cell_type": "code",
   "execution_count": 86,
   "id": "06c9d281",
   "metadata": {},
   "outputs": [],
   "source": [
    "#Quantes fruites hem comprat en total?"
   ]
  },
  {
   "cell_type": "code",
   "execution_count": 87,
   "id": "05f5a169",
   "metadata": {},
   "outputs": [],
   "source": [
    "total_frutas = compra['Pomes']['Qty'] + compra['Peres']['Qty'] + compra['Bananas']['Qty']"
   ]
  },
  {
   "cell_type": "code",
   "execution_count": 88,
   "id": "0a83eb34",
   "metadata": {},
   "outputs": [
    {
     "name": "stdout",
     "output_type": "stream",
     "text": [
      "el numero total de frutas es 18\n"
     ]
    }
   ],
   "source": [
    "print(\"el numero total de frutas es\", total_frutas)"
   ]
  },
  {
   "cell_type": "code",
   "execution_count": 89,
   "id": "19f52608",
   "metadata": {},
   "outputs": [],
   "source": [
    "#Quina és la fruita més cara?"
   ]
  },
  {
   "cell_type": "code",
   "execution_count": 102,
   "id": "92b96757",
   "metadata": {},
   "outputs": [
    {
     "name": "stdout",
     "output_type": "stream",
     "text": [
      "La fruta más cara es: Bananas\n"
     ]
    }
   ],
   "source": [
    "fruta_mas_cara = \"\"\n",
    "precio_mas_alto = 0\n",
    "\n",
    "for fruta, euros in compra.items():\n",
    "    precio = euros[\"€\"]\n",
    "    if precio > precio_mas_alto:\n",
    "        precio_mas_alto = precio\n",
    "        fruta_mas_cara = fruta\n",
    "\n",
    "print(\"La fruta más cara es:\", fruta_mas_cara)"
   ]
  },
  {
   "cell_type": "code",
   "execution_count": null,
   "id": "d95dac50",
   "metadata": {},
   "outputs": [],
   "source": []
  }
 ],
 "metadata": {
  "kernelspec": {
   "display_name": "Python 3 (ipykernel)",
   "language": "python",
   "name": "python3"
  },
  "language_info": {
   "codemirror_mode": {
    "name": "ipython",
    "version": 3
   },
   "file_extension": ".py",
   "mimetype": "text/x-python",
   "name": "python",
   "nbconvert_exporter": "python",
   "pygments_lexer": "ipython3",
   "version": "3.10.9"
  }
 },
 "nbformat": 4,
 "nbformat_minor": 5
}
